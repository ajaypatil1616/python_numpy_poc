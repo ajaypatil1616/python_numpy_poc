{
 "cells": [
  {
   "cell_type": "raw",
   "id": "dba8d026",
   "metadata": {},
   "source": [
    "1D array is basically simple list :[]\n",
    "2D array is like table which where each inner array represent row/column :[[ ]]\n",
    "3D array is like cube OR stack of 2D array(array of 2D arrays) :[[[ ]]]"
   ]
  },
  {
   "cell_type": "raw",
   "id": "7da3963e",
   "metadata": {},
   "source": [
    "1. Solving Complex mathematical problems\n",
    "2. manipulation tasks such as filtering, sorting, aggregating, and calculating statistics.\n",
    "3.In applications such as computer vision and medical imaging, Numpy arrays are used to represent and manipulate images. Each pixel in an image can be represented as a value in a Numpy array, allowing for various image processing operations like filtering, edge detection, and feature extraction.\n",
    "4."
   ]
  },
  {
   "cell_type": "raw",
   "id": "5d2b7d6d",
   "metadata": {},
   "source": [
    "# It is used for scietific computation with python"
   ]
  },
  {
   "cell_type": "raw",
   "id": "61a8b062",
   "metadata": {},
   "source": [
    "Features of Numpy:\n",
    "    1. N dimensional array object\n",
    "    2. broadcasting function\n",
    "    3. useful in linear algebra, fourier transform and random number capabilities"
   ]
  },
  {
   "cell_type": "raw",
   "id": "fc34c716",
   "metadata": {},
   "source": [
    "Numpy is widely used in data analysis tasks such as data cleaning, transformation, and statistical analysis"
   ]
  },
  {
   "cell_type": "markdown",
   "id": "a5156b2f",
   "metadata": {},
   "source": [
    "# Array Creation"
   ]
  },
  {
   "cell_type": "raw",
   "id": "4bac9ffe",
   "metadata": {},
   "source": [
    "1. numpy.array(_)"
   ]
  },
  {
   "cell_type": "code",
   "execution_count": 2,
   "id": "7a47a2e4",
   "metadata": {},
   "outputs": [
    {
     "name": "stdout",
     "output_type": "stream",
     "text": [
      "[1 2 3 4 2]\n"
     ]
    }
   ],
   "source": [
    "import numpy as np\n",
    "arr = np3.array([1,2,3,4,2])\n",
    "print(arr)"
   ]
  },
  {
   "cell_type": "code",
   "execution_count": 3,
   "id": "1a3007f0",
   "metadata": {},
   "outputs": [
    {
     "name": "stdout",
     "output_type": "stream",
     "text": [
      "['1' '2' '3' '4' '5' '6' 'h']\n"
     ]
    }
   ],
   "source": [
    "tuples = (1,2,3,4,5,6,\"h\")\n",
    "arr = np.array(tuples)\n",
    "print(arr)"
   ]
  },
  {
   "cell_type": "raw",
   "id": "d218116c",
   "metadata": {},
   "source": [
    "2. numpy.zeros() : this will create arry with zeros  of specified shape"
   ]
  },
  {
   "cell_type": "code",
   "execution_count": 4,
   "id": "57d0bb7d",
   "metadata": {},
   "outputs": [
    {
     "name": "stdout",
     "output_type": "stream",
     "text": [
      "[[0. 0. 0. 0. 0.]\n",
      " [0. 0. 0. 0. 0.]\n",
      " [0. 0. 0. 0. 0.]\n",
      " [0. 0. 0. 0. 0.]]\n"
     ]
    }
   ],
   "source": [
    "zeros_array = np.zeros((4,5))\n",
    "print(zeros_array)"
   ]
  },
  {
   "cell_type": "raw",
   "id": "5ecdf8d5",
   "metadata": {},
   "source": [
    "3. numpy.ones : this will create an array with one of specified shape"
   ]
  },
  {
   "cell_type": "code",
   "execution_count": 5,
   "id": "c628b069",
   "metadata": {},
   "outputs": [
    {
     "name": "stdout",
     "output_type": "stream",
     "text": [
      "[[1. 1. 1. 1. 1. 1. 1. 1. 1. 1.]\n",
      " [1. 1. 1. 1. 1. 1. 1. 1. 1. 1.]\n",
      " [1. 1. 1. 1. 1. 1. 1. 1. 1. 1.]\n",
      " [1. 1. 1. 1. 1. 1. 1. 1. 1. 1.]\n",
      " [1. 1. 1. 1. 1. 1. 1. 1. 1. 1.]]\n"
     ]
    }
   ],
   "source": [
    "ones_array = np.ones((5,10))\n",
    "print(ones_array)"
   ]
  },
  {
   "cell_type": "code",
   "execution_count": 38,
   "id": "9bad144a",
   "metadata": {},
   "outputs": [
    {
     "name": "stdout",
     "output_type": "stream",
     "text": [
      "[[2. 2. 2. 2. 2. 2. 2. 2. 2. 2.]\n",
      " [2. 2. 2. 2. 2. 2. 2. 2. 2. 2.]\n",
      " [2. 2. 2. 2. 2. 2. 2. 2. 2. 2.]\n",
      " [2. 2. 2. 2. 2. 2. 2. 2. 2. 2.]\n",
      " [2. 2. 2. 2. 2. 2. 2. 2. 2. 2.]]\n",
      "[[0. 0. 0. 0. 0. 0. 0. 0. 0. 0.]\n",
      " [0. 0. 0. 0. 0. 0. 0. 0. 0. 0.]\n",
      " [0. 0. 0. 0. 0. 0. 0. 0. 0. 0.]\n",
      " [0. 0. 0. 0. 0. 0. 0. 0. 0. 0.]\n",
      " [0. 0. 0. 0. 0. 0. 0. 0. 0. 0.]]\n",
      "[[6. 6. 6. 6. 6. 6. 6. 6. 6. 6.]\n",
      " [6. 6. 6. 6. 6. 6. 6. 6. 6. 6.]\n",
      " [6. 6. 6. 6. 6. 6. 6. 6. 6. 6.]\n",
      " [6. 6. 6. 6. 6. 6. 6. 6. 6. 6.]\n",
      " [6. 6. 6. 6. 6. 6. 6. 6. 6. 6.]]\n",
      "[[inf inf inf inf inf inf inf inf inf inf]\n",
      " [inf inf inf inf inf inf inf inf inf inf]\n",
      " [inf inf inf inf inf inf inf inf inf inf]\n",
      " [inf inf inf inf inf inf inf inf inf inf]\n",
      " [inf inf inf inf inf inf inf inf inf inf]]\n"
     ]
    },
    {
     "name": "stderr",
     "output_type": "stream",
     "text": [
      "C:\\Users\\Ajay Patil\\AppData\\Local\\Temp\\ipykernel_23188\\4230258447.py:4: RuntimeWarning: divide by zero encountered in floor_divide\n",
      "  print(ones_array //0)\n"
     ]
    }
   ],
   "source": [
    "print(ones_array +1)\n",
    "print(ones_array -1)\n",
    "print(ones_array *6)\n",
    "print(ones_array //0)"
   ]
  },
  {
   "cell_type": "raw",
   "id": "6019adfc",
   "metadata": {},
   "source": [
    " 4. numpy.empty : this will create uninitailized array  of specified shape  and values of radnom from  memory location"
   ]
  },
  {
   "cell_type": "code",
   "execution_count": 6,
   "id": "1aa821ec",
   "metadata": {},
   "outputs": [
    {
     "name": "stdout",
     "output_type": "stream",
     "text": [
      "[[0.00000000e+000 0.00000000e+000]\n",
      " [0.00000000e+000 0.00000000e+000]\n",
      " [0.00000000e+000 3.75489891e-321]\n",
      " [1.78019082e-306 1.37959740e-306]]\n"
     ]
    }
   ],
   "source": [
    "empty_array = np.empty((4,2))\n",
    "\n",
    "print(empty_array)\n"
   ]
  },
  {
   "cell_type": "raw",
   "id": "c8702742",
   "metadata": {},
   "source": [
    "5. numpy.arrange : this will create array with range of values(start with zero)"
   ]
  },
  {
   "cell_type": "code",
   "execution_count": 7,
   "id": "c112cabb",
   "metadata": {},
   "outputs": [
    {
     "name": "stdout",
     "output_type": "stream",
     "text": [
      "[ 0  1  2  3  4  5  6  7  8  9 10 11 12 13 14 15 16 17 18 19]\n"
     ]
    }
   ],
   "source": [
    "arrange_array = np.arange(20)\n",
    "print(arrange_array)"
   ]
  },
  {
   "cell_type": "code",
   "execution_count": 8,
   "id": "b2aa22d7",
   "metadata": {},
   "outputs": [
    {
     "name": "stdout",
     "output_type": "stream",
     "text": [
      "[[ 0  1  2  3]\n",
      " [ 4  5  6  7]\n",
      " [ 8  9 10 11]\n",
      " [12 13 14 15]\n",
      " [16 17 18 19]]\n"
     ]
    }
   ],
   "source": [
    "arrange_array =arrange_array.reshape(5,4)\n",
    "print(arrange_array)"
   ]
  },
  {
   "cell_type": "raw",
   "id": "5b43c994",
   "metadata": {},
   "source": [
    "6. numpy.linspace : this will create array evenly space values over specified range"
   ]
  },
  {
   "cell_type": "code",
   "execution_count": 9,
   "id": "b5ebb3e0",
   "metadata": {},
   "outputs": [
    {
     "name": "stdout",
     "output_type": "stream",
     "text": [
      "[ 0.  4.  8. 12. 16. 20.]\n"
     ]
    }
   ],
   "source": [
    "linspace_array = np.linspace(0,20,6)\n",
    "print(linspace_array)"
   ]
  },
  {
   "cell_type": "markdown",
   "id": "3eb9a8a0",
   "metadata": {},
   "source": [
    "# Array Manipulation"
   ]
  },
  {
   "cell_type": "raw",
   "id": "755ccfa2",
   "metadata": {},
   "source": [
    "1. numpy.reshape() : reshapes the array"
   ]
  },
  {
   "cell_type": "code",
   "execution_count": 10,
   "id": "48be9a3a",
   "metadata": {},
   "outputs": [
    {
     "name": "stdout",
     "output_type": "stream",
     "text": [
      "[[ 1  2  3]\n",
      " [ 4  5  6]\n",
      " [ 7  8  9]\n",
      " [10 11 12]]\n",
      "------------------------------------\n",
      "[[ 1  2  3  4  5  6]\n",
      " [ 7  8  9 10 11 12]]\n"
     ]
    }
   ],
   "source": [
    "arr = np.array([[1,2,3],[4,5,6],[7,8,9],[10,11,12]])\n",
    "print(arr)\n",
    "print(\"------------------------------------\")\n",
    "reshaped_arr = arr.reshape((2,6))\n",
    "print(reshaped_arr)"
   ]
  },
  {
   "cell_type": "raw",
   "id": "e23be477",
   "metadata": {},
   "source": [
    "2. transpose : transpose the array to by swapping the rows and columns"
   ]
  },
  {
   "cell_type": "code",
   "execution_count": 11,
   "id": "b4768626",
   "metadata": {},
   "outputs": [
    {
     "name": "stdout",
     "output_type": "stream",
     "text": [
      "[[ 1  7]\n",
      " [ 2  8]\n",
      " [ 3  9]\n",
      " [ 4 10]\n",
      " [ 5 11]\n",
      " [ 6 12]]\n"
     ]
    }
   ],
   "source": [
    "arr = reshaped_arr.transpose()\n",
    "print(arr)"
   ]
  },
  {
   "cell_type": "raw",
   "id": "848d5763",
   "metadata": {},
   "source": [
    "3. concatinate : concantes the arrays"
   ]
  },
  {
   "cell_type": "code",
   "execution_count": 12,
   "id": "2d47f49d",
   "metadata": {},
   "outputs": [
    {
     "name": "stdout",
     "output_type": "stream",
     "text": [
      "[ 0  1  2  3  4  5  6  7  8  9 10 12 14 16 18 20 22 24 26 28 31 32 33 34\n",
      " 35 36 37 38 39 10]\n"
     ]
    }
   ],
   "source": [
    "first_array = np.arange(10)\n",
    "second_array = np.arange(10,30, 2)\n",
    "thid_array = np.array([[31,32,33,34,35,36,37,38,39,10]])\n",
    "third_array = thid_array.flatten()\n",
    "\n",
    "conacatinated_array = np.concatenate((first_array, second_array, third_array))\n",
    "print(conacatinated_array)"
   ]
  },
  {
   "cell_type": "raw",
   "id": "25c43f15",
   "metadata": {},
   "source": [
    "4. split:  this function splits the array in subarrays"
   ]
  },
  {
   "cell_type": "code",
   "execution_count": 13,
   "id": "5b0c9c19",
   "metadata": {},
   "outputs": [
    {
     "name": "stdout",
     "output_type": "stream",
     "text": [
      "[array([1, 2]), array([3, 4]), array([5, 6]), array([7, 8]), array([ 9, 10])]\n"
     ]
    }
   ],
   "source": [
    "arr= np.array([1,2,3,4,5,6,7,8,9,10])\n",
    "splitted_arr = np.split(arr,5)\n",
    "print(splitted_arr)"
   ]
  },
  {
   "cell_type": "raw",
   "id": "1d51106a",
   "metadata": {},
   "source": [
    "5. flatten: this function flattens the multidimentional array to 1D array"
   ]
  },
  {
   "cell_type": "code",
   "execution_count": 14,
   "id": "a478d4b7",
   "metadata": {},
   "outputs": [
    {
     "name": "stdout",
     "output_type": "stream",
     "text": [
      "1\n",
      "[ 1  2  3 45  6 12  3  5  6  6 11 36 69 85 46]\n"
     ]
    }
   ],
   "source": [
    "flatten_array = np.array([[[1,2,3,45,6],[12,3,5,6,6],[11,36,69,85,46]]]).flatten()\n",
    "print(flatten_array.ndim)\n",
    "print(flatten_array)"
   ]
  },
  {
   "cell_type": "raw",
   "id": "62be60a3",
   "metadata": {},
   "source": [
    "6.numpy.squeeze() function is used when we want to remove single-dimensional entries from the shape of an array."
   ]
  },
  {
   "cell_type": "code",
   "execution_count": 15,
   "id": "5951bf04",
   "metadata": {},
   "outputs": [
    {
     "name": "stdout",
     "output_type": "stream",
     "text": [
      "(1, 3, 1)\n",
      "(3,)\n",
      "[1 2 3]\n"
     ]
    }
   ],
   "source": [
    "arr = np.array([[[1],[2],[3]]])\n",
    "print(arr.shape)\n",
    "arr = np.squeeze(arr)\n",
    "print(arr.shape)\n",
    "print(arr)"
   ]
  },
  {
   "cell_type": "markdown",
   "id": "699f85ae",
   "metadata": {},
   "source": [
    "# Array Operation "
   ]
  },
  {
   "cell_type": "raw",
   "id": "6abb5f0b",
   "metadata": {},
   "source": [
    "Arithamatic Operations"
   ]
  },
  {
   "cell_type": "code",
   "execution_count": 16,
   "id": "8c997e96",
   "metadata": {},
   "outputs": [
    {
     "name": "stdout",
     "output_type": "stream",
     "text": [
      "[5 7 9]\n",
      "[-3 -3 -3]\n",
      "[ 4 10 18]\n",
      "[0.25 0.4  0.5 ]\n",
      "[1 4 9]\n",
      "[16 25 36]\n"
     ]
    }
   ],
   "source": [
    "first_arr = np.array([1,2,3])\n",
    "second_arr = np.array([4,5,6])\n",
    "print(np.add(first_arr, second_arr))\n",
    "print(np.subtract(first_arr, second_arr))\n",
    "print(np.multiply(first_arr, second_arr))\n",
    "print(np.divide(first_arr, second_arr))\n",
    "print(np.power(first_arr, 2))\n",
    "print(np.power(second_arr,2))"
   ]
  },
  {
   "cell_type": "raw",
   "id": "380a1409",
   "metadata": {},
   "source": [
    "2.dot product:"
   ]
  },
  {
   "cell_type": "code",
   "execution_count": 17,
   "id": "4ccb1c00",
   "metadata": {},
   "outputs": [
    {
     "name": "stdout",
     "output_type": "stream",
     "text": [
      "32\n"
     ]
    }
   ],
   "source": [
    "print(np.dot(first_arr, second_arr))"
   ]
  },
  {
   "cell_type": "raw",
   "id": "b3ec91a6",
   "metadata": {},
   "source": [
    "3. matmul : performs matrix multiplication of two array"
   ]
  },
  {
   "cell_type": "code",
   "execution_count": 18,
   "id": "9947e24e",
   "metadata": {},
   "outputs": [
    {
     "name": "stdout",
     "output_type": "stream",
     "text": [
      "[[19 22]\n",
      " [43 50]\n",
      " [67 78]]\n"
     ]
    }
   ],
   "source": [
    "m1 = np.array([[1,2],\n",
    "               [3,4],\n",
    "              [5,6]])\n",
    "m2 = np.array([[5,6],\n",
    "               [7,8]])\n",
    "print(np.matmul(m1,m2))"
   ]
  },
  {
   "cell_type": "code",
   "execution_count": 19,
   "id": "cf05b7fa",
   "metadata": {},
   "outputs": [
    {
     "name": "stdout",
     "output_type": "stream",
     "text": [
      "Dot product of matrices A and B:\n",
      " [[19 22]\n",
      " [43 50]]\n"
     ]
    }
   ],
   "source": [
    "A = np.array([[1, 2],\n",
    "              [3, 4]])\n",
    "B = np.array([[5, 6],\n",
    "              [7, 8]])\n",
    "dot_product_matrix = np.dot(A, B)\n",
    "print(\"Dot product of matrices A and B:\\n\", dot_product_matrix)"
   ]
  },
  {
   "cell_type": "raw",
   "id": "c23f3141",
   "metadata": {},
   "source": [
    "4. Functions :"
   ]
  },
  {
   "cell_type": "code",
   "execution_count": 20,
   "id": "689ca3d4",
   "metadata": {},
   "outputs": [
    {
     "name": "stdout",
     "output_type": "stream",
     "text": [
      "[0 1 2 3 4 5 6 7 8 9]\n",
      "mean 4.5\n",
      "std 2.8722813232690143\n",
      "sum 45\n",
      "var : 8.25\n"
     ]
    }
   ],
   "source": [
    "array = np.arange(10)\n",
    "print(array)\n",
    "print(\"mean\", np.mean(array))\n",
    "print(\"std\", np.std(array))\n",
    "print(f\"sum {np.sum(array)}\")\n",
    "print(f\"var : {np.var(array)}\")"
   ]
  },
  {
   "cell_type": "raw",
   "id": "a443d2cf",
   "metadata": {},
   "source": [
    "5. argmax and argmin"
   ]
  },
  {
   "cell_type": "code",
   "execution_count": 21,
   "id": "925528ef",
   "metadata": {
    "scrolled": true
   },
   "outputs": [
    {
     "name": "stdout",
     "output_type": "stream",
     "text": [
      "[ 0  2  4  6  8 10 12 14 16 18]\n",
      "max index: 9\n",
      "min index : 0\n",
      "Value at max index :18\n",
      "Value at min index : 0\n"
     ]
    }
   ],
   "source": [
    "arr = np.arange(0,20,2)\n",
    "print(arr)\n",
    "print(f\"max index: {np.argmax(arr)}\")\n",
    "print(f\"min index : {np.argmin(arr)}\")\n",
    "print(f\"Value at max index :{arr[np.argmax(arr)]}\")\n",
    "print(f\"Value at min index : {arr[np.argmin(arr)]}\")"
   ]
  },
  {
   "cell_type": "markdown",
   "id": "b2c0223e",
   "metadata": {},
   "source": [
    "#  Linear Algebra"
   ]
  },
  {
   "cell_type": "raw",
   "id": "5ae8cb00",
   "metadata": {},
   "source": [
    "1. numpy.linalg.inv : calculates the inverse of matrix"
   ]
  },
  {
   "cell_type": "code",
   "execution_count": 22,
   "id": "6d9629b6",
   "metadata": {},
   "outputs": [
    {
     "name": "stdout",
     "output_type": "stream",
     "text": [
      "[[-2.   1. ]\n",
      " [ 1.5 -0.5]]\n"
     ]
    }
   ],
   "source": [
    "matrix = np.array([[1,2],\n",
    "                  [3,4]])\n",
    "print(np.linalg.inv(matrix))"
   ]
  },
  {
   "cell_type": "raw",
   "id": "021ca380",
   "metadata": {},
   "source": [
    "2. numpy.linalg.det : calculating determenent of matrix"
   ]
  },
  {
   "cell_type": "code",
   "execution_count": 23,
   "id": "481f7607",
   "metadata": {},
   "outputs": [
    {
     "name": "stdout",
     "output_type": "stream",
     "text": [
      "-2.0000000000000004\n"
     ]
    }
   ],
   "source": [
    "print(np.linalg.det(matrix))"
   ]
  },
  {
   "cell_type": "raw",
   "id": "bd617cff",
   "metadata": {},
   "source": [
    "3. numpy.linalg.eig : finding eigen values and eigen vectors"
   ]
  },
  {
   "cell_type": "code",
   "execution_count": 24,
   "id": "76a18fbe",
   "metadata": {},
   "outputs": [
    {
     "name": "stdout",
     "output_type": "stream",
     "text": [
      "[ 3. -1.]\n",
      "[[ 0.70710678 -0.70710678]\n",
      " [ 0.70710678  0.70710678]]\n"
     ]
    }
   ],
   "source": [
    "matrix = np.array([[1,2],\n",
    "                  [2,1]])\n",
    "eigenValues, eigenVectors = np.linalg.eig(matrix)\n",
    "print(eigenValues)\n",
    "print(eigenVectors)"
   ]
  },
  {
   "cell_type": "raw",
   "id": "50736cf4",
   "metadata": {},
   "source": [
    "In linear algebra, singular value decomposition (SVD) is a method of factoring a matrix into three matrices to expose its underlying structure: A = UDV, U is mxn and column orthogonal, V is nxn and orthogonal, and D is diagonal with real positive entries. \n",
    "\n",
    "\n",
    "4. numpy.linalg.svd "
   ]
  },
  {
   "cell_type": "code",
   "execution_count": 25,
   "id": "83ac0261",
   "metadata": {},
   "outputs": [
    {
     "name": "stdout",
     "output_type": "stream",
     "text": [
      "U [[-0.2298477   0.88346102  0.40824829]\n",
      " [-0.52474482  0.24078249 -0.81649658]\n",
      " [-0.81964194 -0.40189603  0.40824829]]\n",
      "S [9.52551809 0.51430058]\n",
      "VT [[-0.61962948 -0.78489445]\n",
      " [-0.78489445  0.61962948]]\n"
     ]
    }
   ],
   "source": [
    "matrix = np.array([[1,2],\n",
    "                  [3,4],\n",
    "                  [5,6]])\n",
    "U, S, VT = np.linalg.svd(matrix)\n",
    "print(\"U\", U)\n",
    "print(\"S\", S)\n",
    "print(\"VT\", VT)"
   ]
  },
  {
   "cell_type": "markdown",
   "id": "f7dd1936",
   "metadata": {},
   "source": [
    "# Random Number generation"
   ]
  },
  {
   "cell_type": "raw",
   "id": "6dd7c984",
   "metadata": {},
   "source": [
    "1.numpy.random.rand() : This function generates random numbers from a uniform distribution over the interval [0, 1)."
   ]
  },
  {
   "cell_type": "code",
   "execution_count": 26,
   "id": "10ff0862",
   "metadata": {},
   "outputs": [
    {
     "name": "stdout",
     "output_type": "stream",
     "text": [
      "[[0.02261403 0.53693922 0.99316839 0.180476  ]\n",
      " [0.38594221 0.49532494 0.09620376 0.37136483]\n",
      " [0.48637211 0.54068539 0.28631238 0.64909485]]\n"
     ]
    }
   ],
   "source": [
    "arr = np.random.rand(3,4)\n",
    "print(arr)"
   ]
  },
  {
   "cell_type": "raw",
   "id": "d14712a7",
   "metadata": {},
   "source": [
    "2.numpy.random.randn(): This function generates random numbers from a standard normal distribution (mean = 0, standard deviation = 1)."
   ]
  },
  {
   "cell_type": "code",
   "execution_count": 27,
   "id": "d767f5c5",
   "metadata": {},
   "outputs": [
    {
     "name": "stdout",
     "output_type": "stream",
     "text": [
      "[[-1.15058376 -1.46433633  1.66689547]\n",
      " [-0.80789108  2.06617625  0.14776562]]\n"
     ]
    }
   ],
   "source": [
    "arr= np.random.randn(2,3)\n",
    "print(arr)"
   ]
  },
  {
   "cell_type": "raw",
   "id": "ed118bf5",
   "metadata": {},
   "source": [
    "3.numpy.random.randint(): This function generates random integers from a specified low (inclusive) to high (exclusive) range."
   ]
  },
  {
   "cell_type": "code",
   "execution_count": 28,
   "id": "f3815cde",
   "metadata": {},
   "outputs": [
    {
     "name": "stdout",
     "output_type": "stream",
     "text": [
      "[68 58 32 38 68 67 83  3 21  3]\n"
     ]
    }
   ],
   "source": [
    "print(np.random.randint(1,102, size = 10))"
   ]
  },
  {
   "cell_type": "raw",
   "id": "a62b3e7e",
   "metadata": {},
   "source": [
    "4.numpy.random.choice(): This function generates random samples from a given 1-D array."
   ]
  },
  {
   "cell_type": "code",
   "execution_count": 29,
   "id": "234b2390",
   "metadata": {},
   "outputs": [
    {
     "name": "stdout",
     "output_type": "stream",
     "text": [
      "[ 0  1  2  3  4  5  6  7  8  9 10 11 12 13 14 15 16 17 18 19 20 21 22 23\n",
      " 24]\n",
      "------------------\n",
      "[ 7  5 21  5  9 11 24 21]\n"
     ]
    }
   ],
   "source": [
    "arr = np.arange(0,25)\n",
    "print(arr)\n",
    "print(\"------------------\")\n",
    "print(np.random.choice(arr,size=8))"
   ]
  },
  {
   "cell_type": "markdown",
   "id": "f14dd4d0",
   "metadata": {},
   "source": [
    "# Mathematical Functions:"
   ]
  },
  {
   "cell_type": "raw",
   "id": "749f1bc4",
   "metadata": {},
   "source": [
    "1.Trigonometric Functions:"
   ]
  },
  {
   "cell_type": "code",
   "execution_count": 30,
   "id": "ddca40f2",
   "metadata": {},
   "outputs": [
    {
     "name": "stdout",
     "output_type": "stream",
     "text": [
      "0.8060754911159176\n",
      "0.5253219888177297\n",
      "1.6197751905438615\n"
     ]
    }
   ],
   "source": [
    "print(np.sin(np.degrees(45)))\n",
    "print(np.cos(45))\n",
    "print(np.tan(45))"
   ]
  },
  {
   "cell_type": "raw",
   "id": "e27729a4",
   "metadata": {},
   "source": [
    "2.Exponential and Logarithmic Functions:"
   ]
  },
  {
   "cell_type": "raw",
   "id": "be625e5d",
   "metadata": {},
   "source": [
    "numpy.exp() computes the exponential of each element.\n",
    "numpy.log() computes natural logarithm.\n",
    "numpy.log10() computes base-10 logarithm."
   ]
  },
  {
   "cell_type": "code",
   "execution_count": 31,
   "id": "b45d8a4a",
   "metadata": {},
   "outputs": [
    {
     "name": "stdout",
     "output_type": "stream",
     "text": [
      "[2.71828183e+00 7.38905610e+00 9.74480345e+09 1.48413159e+02]\n",
      "[0.         0.69314718 3.13549422 1.60943791]\n",
      "[0.         0.30103    1.36172784 0.69897   ]\n"
     ]
    }
   ],
   "source": [
    "arr = np.array([1,2,23,5])\n",
    "print(np.exp(arr))\n",
    "print(np.log(arr))\n",
    "print(np.log10(arr))"
   ]
  },
  {
   "cell_type": "raw",
   "id": "4ab9d9d3",
   "metadata": {},
   "source": [
    "3. Statistical Functions:"
   ]
  },
  {
   "cell_type": "raw",
   "id": "7d985945",
   "metadata": {},
   "source": [
    "Functions like numpy.max(), numpy.min(), numpy.mean(), and numpy.median() are commonly used."
   ]
  },
  {
   "cell_type": "code",
   "execution_count": 32,
   "id": "3e13b0ed",
   "metadata": {},
   "outputs": [
    {
     "name": "stdout",
     "output_type": "stream",
     "text": [
      "6\n",
      "1\n",
      "3.5\n",
      "3.5\n"
     ]
    }
   ],
   "source": [
    "arr = np.array([[1,2,3],[4,5,6]])\n",
    "print(np.max(arr))\n",
    "print(np.min(arr))\n",
    "print(np.mean(arr))\n",
    "print(np.median(arr))\n"
   ]
  },
  {
   "cell_type": "code",
   "execution_count": 33,
   "id": "d70a3e14",
   "metadata": {},
   "outputs": [
    {
     "name": "stdout",
     "output_type": "stream",
     "text": [
      "[[ 31  38  99]\n",
      " [ 52  64 184]]\n"
     ]
    }
   ],
   "source": [
    "f = np.array([[2,3,2],\n",
    "              [4,4,4]])\n",
    "g = np.array([[1,2,30],\n",
    "             [5,6,7],\n",
    "             [7,8,9]])\n",
    "print(np.matmul(f,g))"
   ]
  },
  {
   "cell_type": "code",
   "execution_count": null,
   "id": "a7c3da2e",
   "metadata": {},
   "outputs": [],
   "source": []
  }
 ],
 "metadata": {
  "kernelspec": {
   "display_name": "Python 3 (ipykernel)",
   "language": "python",
   "name": "python3"
  },
  "language_info": {
   "codemirror_mode": {
    "name": "ipython",
    "version": 3
   },
   "file_extension": ".py",
   "mimetype": "text/x-python",
   "name": "python",
   "nbconvert_exporter": "python",
   "pygments_lexer": "ipython3",
   "version": "3.10.9"
  }
 },
 "nbformat": 4,
 "nbformat_minor": 5
}
